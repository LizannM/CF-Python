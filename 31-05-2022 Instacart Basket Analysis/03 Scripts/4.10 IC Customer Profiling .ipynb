{
 "cells": [
  {
   "cell_type": "markdown",
   "id": "50d3c6ec",
   "metadata": {},
   "source": [
    "# Customer Profiling"
   ]
  },
  {
   "cell_type": "markdown",
   "id": "156d2594",
   "metadata": {},
   "source": [
    "1. Import Libraries and Data\n",
    "2. Data Security Concerns - Names\n",
    "3. Regional Customer Behaviour\n",
    "4. Flag Low Activity customers and exclude from the dataset\n",
    "5. Demographic Profiles: Income and Life Status\n",
    "6. Comparing Profiles and Regions\n",
    "7. Comparing Profiles across departments"
   ]
  },
  {
   "cell_type": "markdown",
   "id": "bea3ac5b",
   "metadata": {},
   "source": [
    "# 01. Import Libraries and Data"
   ]
  },
  {
   "cell_type": "code",
   "execution_count": 1,
   "id": "595ab356",
   "metadata": {},
   "outputs": [],
   "source": [
    "# Import Libraries\n",
    "import pandas as pd\n",
    "import numpy as np\n",
    "import os\n",
    "import matplotlib.pyplot as plt\n",
    "import seaborn as sns\n",
    "import scipy"
   ]
  },
  {
   "cell_type": "code",
   "execution_count": 68,
   "id": "806e926f",
   "metadata": {},
   "outputs": [],
   "source": [
    "path = r'C:\\Users\\lizan\\Desktop\\Data Analytics\\4.0\\31-05-2022 Instacart Basket Analysis'"
   ]
  },
  {
   "cell_type": "code",
   "execution_count": 3,
   "id": "d974ec3a",
   "metadata": {},
   "outputs": [],
   "source": [
    "ords_prods_cx = pd.read_pickle(os.path.join(path,'02 Data','Prepared Data','orders_products_customers_merged.pkl'))"
   ]
  },
  {
   "cell_type": "code",
   "execution_count": 4,
   "id": "71c2b796",
   "metadata": {},
   "outputs": [
    {
     "data": {
      "text/plain": [
       "(32404859, 34)"
      ]
     },
     "execution_count": 4,
     "metadata": {},
     "output_type": "execute_result"
    }
   ],
   "source": [
    "ords_prods_cx.shape"
   ]
  },
  {
   "cell_type": "code",
   "execution_count": 5,
   "id": "196b05b6",
   "metadata": {},
   "outputs": [
    {
     "data": {
      "text/html": [
       "<div>\n",
       "<style scoped>\n",
       "    .dataframe tbody tr th:only-of-type {\n",
       "        vertical-align: middle;\n",
       "    }\n",
       "\n",
       "    .dataframe tbody tr th {\n",
       "        vertical-align: top;\n",
       "    }\n",
       "\n",
       "    .dataframe thead th {\n",
       "        text-align: right;\n",
       "    }\n",
       "</style>\n",
       "<table border=\"1\" class=\"dataframe\">\n",
       "  <thead>\n",
       "    <tr style=\"text-align: right;\">\n",
       "      <th></th>\n",
       "      <th>order_id</th>\n",
       "      <th>user_id</th>\n",
       "      <th>order_number</th>\n",
       "      <th>orders_day_of_week</th>\n",
       "      <th>order_time</th>\n",
       "      <th>days_since_prior_order</th>\n",
       "      <th>new_customer</th>\n",
       "      <th>product_id</th>\n",
       "      <th>add_to_cart_order</th>\n",
       "      <th>reordered</th>\n",
       "      <th>...</th>\n",
       "      <th>First Name</th>\n",
       "      <th>Surnam</th>\n",
       "      <th>Gender</th>\n",
       "      <th>STATE</th>\n",
       "      <th>Age</th>\n",
       "      <th>date_joined</th>\n",
       "      <th>n_dependants</th>\n",
       "      <th>fam_status</th>\n",
       "      <th>income</th>\n",
       "      <th>_merge</th>\n",
       "    </tr>\n",
       "  </thead>\n",
       "  <tbody>\n",
       "    <tr>\n",
       "      <th>0</th>\n",
       "      <td>2539329</td>\n",
       "      <td>1</td>\n",
       "      <td>1</td>\n",
       "      <td>2</td>\n",
       "      <td>8</td>\n",
       "      <td>NaN</td>\n",
       "      <td>True</td>\n",
       "      <td>196</td>\n",
       "      <td>1</td>\n",
       "      <td>0</td>\n",
       "      <td>...</td>\n",
       "      <td>Linda</td>\n",
       "      <td>Nguyen</td>\n",
       "      <td>Female</td>\n",
       "      <td>Alabama</td>\n",
       "      <td>31</td>\n",
       "      <td>2/17/2019</td>\n",
       "      <td>3</td>\n",
       "      <td>married</td>\n",
       "      <td>40423</td>\n",
       "      <td>both</td>\n",
       "    </tr>\n",
       "    <tr>\n",
       "      <th>1</th>\n",
       "      <td>2398795</td>\n",
       "      <td>1</td>\n",
       "      <td>2</td>\n",
       "      <td>3</td>\n",
       "      <td>7</td>\n",
       "      <td>15.0</td>\n",
       "      <td>False</td>\n",
       "      <td>196</td>\n",
       "      <td>1</td>\n",
       "      <td>1</td>\n",
       "      <td>...</td>\n",
       "      <td>Linda</td>\n",
       "      <td>Nguyen</td>\n",
       "      <td>Female</td>\n",
       "      <td>Alabama</td>\n",
       "      <td>31</td>\n",
       "      <td>2/17/2019</td>\n",
       "      <td>3</td>\n",
       "      <td>married</td>\n",
       "      <td>40423</td>\n",
       "      <td>both</td>\n",
       "    </tr>\n",
       "    <tr>\n",
       "      <th>2</th>\n",
       "      <td>473747</td>\n",
       "      <td>1</td>\n",
       "      <td>3</td>\n",
       "      <td>3</td>\n",
       "      <td>12</td>\n",
       "      <td>21.0</td>\n",
       "      <td>False</td>\n",
       "      <td>196</td>\n",
       "      <td>1</td>\n",
       "      <td>1</td>\n",
       "      <td>...</td>\n",
       "      <td>Linda</td>\n",
       "      <td>Nguyen</td>\n",
       "      <td>Female</td>\n",
       "      <td>Alabama</td>\n",
       "      <td>31</td>\n",
       "      <td>2/17/2019</td>\n",
       "      <td>3</td>\n",
       "      <td>married</td>\n",
       "      <td>40423</td>\n",
       "      <td>both</td>\n",
       "    </tr>\n",
       "    <tr>\n",
       "      <th>3</th>\n",
       "      <td>2254736</td>\n",
       "      <td>1</td>\n",
       "      <td>4</td>\n",
       "      <td>4</td>\n",
       "      <td>7</td>\n",
       "      <td>29.0</td>\n",
       "      <td>False</td>\n",
       "      <td>196</td>\n",
       "      <td>1</td>\n",
       "      <td>1</td>\n",
       "      <td>...</td>\n",
       "      <td>Linda</td>\n",
       "      <td>Nguyen</td>\n",
       "      <td>Female</td>\n",
       "      <td>Alabama</td>\n",
       "      <td>31</td>\n",
       "      <td>2/17/2019</td>\n",
       "      <td>3</td>\n",
       "      <td>married</td>\n",
       "      <td>40423</td>\n",
       "      <td>both</td>\n",
       "    </tr>\n",
       "    <tr>\n",
       "      <th>4</th>\n",
       "      <td>431534</td>\n",
       "      <td>1</td>\n",
       "      <td>5</td>\n",
       "      <td>4</td>\n",
       "      <td>15</td>\n",
       "      <td>28.0</td>\n",
       "      <td>False</td>\n",
       "      <td>196</td>\n",
       "      <td>1</td>\n",
       "      <td>1</td>\n",
       "      <td>...</td>\n",
       "      <td>Linda</td>\n",
       "      <td>Nguyen</td>\n",
       "      <td>Female</td>\n",
       "      <td>Alabama</td>\n",
       "      <td>31</td>\n",
       "      <td>2/17/2019</td>\n",
       "      <td>3</td>\n",
       "      <td>married</td>\n",
       "      <td>40423</td>\n",
       "      <td>both</td>\n",
       "    </tr>\n",
       "  </tbody>\n",
       "</table>\n",
       "<p>5 rows × 34 columns</p>\n",
       "</div>"
      ],
      "text/plain": [
       "   order_id user_id  order_number  orders_day_of_week  order_time  \\\n",
       "0   2539329       1             1                   2           8   \n",
       "1   2398795       1             2                   3           7   \n",
       "2    473747       1             3                   3          12   \n",
       "3   2254736       1             4                   4           7   \n",
       "4    431534       1             5                   4          15   \n",
       "\n",
       "   days_since_prior_order  new_customer  product_id  add_to_cart_order  \\\n",
       "0                     NaN          True         196                  1   \n",
       "1                    15.0         False         196                  1   \n",
       "2                    21.0         False         196                  1   \n",
       "3                    29.0         False         196                  1   \n",
       "4                    28.0         False         196                  1   \n",
       "\n",
       "   reordered  ... First Name  Surnam  Gender    STATE Age date_joined  \\\n",
       "0          0  ...      Linda  Nguyen  Female  Alabama  31   2/17/2019   \n",
       "1          1  ...      Linda  Nguyen  Female  Alabama  31   2/17/2019   \n",
       "2          1  ...      Linda  Nguyen  Female  Alabama  31   2/17/2019   \n",
       "3          1  ...      Linda  Nguyen  Female  Alabama  31   2/17/2019   \n",
       "4          1  ...      Linda  Nguyen  Female  Alabama  31   2/17/2019   \n",
       "\n",
       "  n_dependants fam_status  income _merge  \n",
       "0            3    married   40423   both  \n",
       "1            3    married   40423   both  \n",
       "2            3    married   40423   both  \n",
       "3            3    married   40423   both  \n",
       "4            3    married   40423   both  \n",
       "\n",
       "[5 rows x 34 columns]"
      ]
     },
     "execution_count": 5,
     "metadata": {},
     "output_type": "execute_result"
    }
   ],
   "source": [
    "ords_prods_cx.head()"
   ]
  },
  {
   "cell_type": "code",
   "execution_count": 6,
   "id": "c2bd49b9",
   "metadata": {},
   "outputs": [
    {
     "name": "stdout",
     "output_type": "stream",
     "text": [
      "<class 'pandas.core.frame.DataFrame'>\n",
      "Int64Index: 32404859 entries, 0 to 32404858\n",
      "Data columns (total 34 columns):\n",
      " #   Column                  Dtype   \n",
      "---  ------                  -----   \n",
      " 0   order_id                int64   \n",
      " 1   user_id                 object  \n",
      " 2   order_number            int64   \n",
      " 3   orders_day_of_week      int64   \n",
      " 4   order_time              int64   \n",
      " 5   days_since_prior_order  float64 \n",
      " 6   new_customer            bool    \n",
      " 7   product_id              int64   \n",
      " 8   add_to_cart_order       int64   \n",
      " 9   reordered               int64   \n",
      " 10  product_name            object  \n",
      " 11  aisle_id                int64   \n",
      " 12  department_id           int64   \n",
      " 13  prices                  float64 \n",
      " 14  price_range_loc         object  \n",
      " 15  Busiest_Day             object  \n",
      " 16  Busiest_Days            object  \n",
      " 17  Busiest_Hours           object  \n",
      " 18  max_order               int64   \n",
      " 19  loyalty_flag            object  \n",
      " 20  avg_spend               float64 \n",
      " 21  spend_type              object  \n",
      " 22  median_order_frequency  float64 \n",
      " 23  frequency_flag          object  \n",
      " 24  First Name              object  \n",
      " 25  Surnam                  object  \n",
      " 26  Gender                  object  \n",
      " 27  STATE                   object  \n",
      " 28  Age                     int64   \n",
      " 29  date_joined             object  \n",
      " 30  n_dependants            int64   \n",
      " 31  fam_status              object  \n",
      " 32  income                  int64   \n",
      " 33  _merge                  category\n",
      "dtypes: bool(1), category(1), float64(4), int64(13), object(15)\n",
      "memory usage: 8.0+ GB\n"
     ]
    }
   ],
   "source": [
    "ords_prods_cx.info()"
   ]
  },
  {
   "cell_type": "markdown",
   "id": "2fff4b33",
   "metadata": {},
   "source": [
    "# 02. Security Concerns"
   ]
  },
  {
   "cell_type": "markdown",
   "id": "96cf2de1",
   "metadata": {},
   "source": [
    "The customer's full names are present in the data along with some personal information.  For this analysis, specific customer names are not required and therefore will be dropped from the data set"
   ]
  },
  {
   "cell_type": "code",
   "execution_count": 7,
   "id": "ba7b2b87",
   "metadata": {},
   "outputs": [],
   "source": [
    "# Drop customer's name variables\n",
    "ords_prods_cx = ords_prods_cx.drop(columns = ['First Name','Surnam'])"
   ]
  },
  {
   "cell_type": "markdown",
   "id": "b2397ba7",
   "metadata": {},
   "source": [
    "# 03. Regional Customer Behaviour"
   ]
  },
  {
   "cell_type": "code",
   "execution_count": 8,
   "id": "212655b2",
   "metadata": {},
   "outputs": [],
   "source": [
    "# Create a new column with the Region variable\n",
    "result = []\n",
    "\n",
    "for value in ords_prods_cx['STATE']:\n",
    "            if value == 'Maine':\n",
    "                    result.append('Northeast')\n",
    "            elif value == 'New Hampshire':\n",
    "                    result.append('Northeast')\n",
    "            elif value == 'Vermont':\n",
    "                    result.append('Northeast')\n",
    "            elif value == 'Massachusetts':\n",
    "                    result.append('Northeast')\n",
    "            elif value == 'Rhode Island':\n",
    "                    result.append('Northeast')\n",
    "            elif value == 'Connecticut':\n",
    "                    result.append('Northeast')\n",
    "            elif value == 'New York':\n",
    "                    result.append('Northeast')\n",
    "            elif value == 'Pennsylvania':\n",
    "                    result.append('Northeast')\n",
    "            elif value == 'New Jersey':\n",
    "                    result.append('Northeast')\n",
    "            elif value == 'Wisconsin':\n",
    "                    result.append('Midwest')\n",
    "            elif value == 'Michigan':\n",
    "                    result.append('Midwest')\n",
    "            elif value == 'Illinois':\n",
    "                    result.append('Midwest')\n",
    "            elif value == 'Indiana':\n",
    "                    result.append('Midwest')\n",
    "            elif value == 'Ohio':\n",
    "                    result.append('Midwest')\n",
    "            elif value == 'North Dakota':\n",
    "                    result.append('Midwest')\n",
    "            elif value == 'South Dakota':\n",
    "                    result.append('Midwest')\n",
    "            elif value == 'Nebraska':\n",
    "                    result.append('Midwest')\n",
    "            elif value == 'Kansas':\n",
    "                    result.append('Midwest')\n",
    "            elif value == 'Minnesota':\n",
    "                    result.append('Midwest')\n",
    "            elif value == 'Iowa':\n",
    "                    result.append('Midwest')\n",
    "            elif value == 'Missouri':\n",
    "                    result.append('Midwest')\n",
    "            elif value == 'Delaware':\n",
    "                    result.append('South')\n",
    "            elif value == 'Maryland':\n",
    "                    result.append('South')\n",
    "            elif value == 'District of Columbia':\n",
    "                    result.append('South')\n",
    "            elif value == 'Virginia':\n",
    "                    result.append('South')\n",
    "            elif value == 'West Virginia':\n",
    "                    result.append('South')\n",
    "            elif value == 'North Carolina':\n",
    "                    result.append('South')\n",
    "            elif value == 'South Carolina':\n",
    "                    result.append('South')\n",
    "            elif value == 'Georgia':\n",
    "                    result.append('South')\n",
    "            elif value == 'Florida':\n",
    "                    result.append('South')\n",
    "            elif value == 'Kentucky':\n",
    "                    result.append('South')\n",
    "            elif value == 'Tennessee':\n",
    "                    result.append('South')\n",
    "            elif value == 'Mississippi':\n",
    "                    result.append('South')                            \n",
    "            elif value == 'Alabama':\n",
    "                    result.append('South')\n",
    "            elif value == 'Oklahoma':\n",
    "                    result.append('South')\n",
    "            elif value == 'Texas':\n",
    "                    result.append('South')\n",
    "            elif value == 'Arkansas':\n",
    "                    result.append('South')\n",
    "            elif value == 'Louisiana':\n",
    "                    result.append('South')\n",
    "            elif value == 'Idaho':\n",
    "                    result.append('West')\n",
    "            elif value == 'Montana':\n",
    "                    result.append('West')\n",
    "            elif value == 'Wyoming':\n",
    "                    result.append('West')               \n",
    "            elif value == 'Nevada':\n",
    "                    result.append('West')\n",
    "            elif value == 'Utah':\n",
    "                    result.append('West')\n",
    "            elif value == 'Colorado':\n",
    "                    result.append('West')\n",
    "            elif value == 'Arizona':\n",
    "                    result.append('West')\n",
    "            elif value == 'New Mexico':\n",
    "                    result.append('West')\n",
    "            elif value == 'Alaska':\n",
    "                    result.append('West')\n",
    "            elif value == 'Washington':\n",
    "                    result.append('West')\n",
    "            elif value == 'Oregon':\n",
    "                    result.append('West')\n",
    "            elif value == 'California':\n",
    "                    result.append('West')\n",
    "            elif value == 'Hawaii':\n",
    "                    result.append('West')"
   ]
  },
  {
   "cell_type": "code",
   "execution_count": 9,
   "id": "2886f1f9",
   "metadata": {},
   "outputs": [],
   "source": [
    "ords_prods_cx['Region'] = result"
   ]
  },
  {
   "cell_type": "code",
   "execution_count": 10,
   "id": "4317e05f",
   "metadata": {},
   "outputs": [
    {
     "data": {
      "text/plain": [
       "South        10791885\n",
       "West          8292913\n",
       "Midwest       7597325\n",
       "Northeast     5722736\n",
       "Name: Region, dtype: int64"
      ]
     },
     "execution_count": 10,
     "metadata": {},
     "output_type": "execute_result"
    }
   ],
   "source": [
    "ords_prods_cx['Region'].value_counts()"
   ]
  },
  {
   "cell_type": "code",
   "execution_count": 12,
   "id": "f056fa52",
   "metadata": {},
   "outputs": [],
   "source": [
    "# Crosstab to compare spending per region\n",
    "crosstab = pd.crosstab(ords_prods_cx['Region'], ords_prods_cx['spend_type'])"
   ]
  },
  {
   "cell_type": "code",
   "execution_count": 13,
   "id": "36315423",
   "metadata": {},
   "outputs": [],
   "source": [
    "crosstab.to_clipboard()"
   ]
  },
  {
   "cell_type": "markdown",
   "id": "8e5676d8",
   "metadata": {},
   "source": [
    "The majority of customers in each Region are Low Spenders."
   ]
  },
  {
   "cell_type": "markdown",
   "id": "7ff03468",
   "metadata": {},
   "source": [
    "# 04. Flag Low Activity Customers and Exclude "
   ]
  },
  {
   "cell_type": "code",
   "execution_count": 19,
   "id": "405fac59",
   "metadata": {},
   "outputs": [],
   "source": [
    "# Add order activity flag\n",
    "ords_prods_cx.loc[ords_prods_cx['max_order'] < 5, 'activity flag'] = 'Low Activity'"
   ]
  },
  {
   "cell_type": "code",
   "execution_count": 20,
   "id": "81d0def7",
   "metadata": {},
   "outputs": [],
   "source": [
    "ords_prods_cx.loc[ords_prods_cx['max_order'] >= 5, 'activity flag'] = 'High Activity'"
   ]
  },
  {
   "cell_type": "code",
   "execution_count": 24,
   "id": "8f4e0966",
   "metadata": {},
   "outputs": [
    {
     "data": {
      "text/plain": [
       "High Activity    30964564\n",
       "Low Activity      1440295\n",
       "Name: activity flag, dtype: int64"
      ]
     },
     "execution_count": 24,
     "metadata": {},
     "output_type": "execute_result"
    }
   ],
   "source": [
    "ords_prods_cx['activity flag'].value_counts()"
   ]
  },
  {
   "cell_type": "code",
   "execution_count": 26,
   "id": "2be95091",
   "metadata": {},
   "outputs": [],
   "source": [
    "# Create a subset to exclude low activity users\n",
    "ords_prods_cx_active = ords_prods_cx[ords_prods_cx['activity flag']=='High Activity']"
   ]
  },
  {
   "cell_type": "code",
   "execution_count": 27,
   "id": "bcd6b96f",
   "metadata": {},
   "outputs": [
    {
     "data": {
      "text/plain": [
       "(30964564, 34)"
      ]
     },
     "execution_count": 27,
     "metadata": {},
     "output_type": "execute_result"
    }
   ],
   "source": [
    "ords_prods_cx_active.shape"
   ]
  },
  {
   "cell_type": "code",
   "execution_count": 28,
   "id": "5dc1d325",
   "metadata": {},
   "outputs": [],
   "source": [
    "ords_prods_cx_active.to_pickle(os.path.join(path, '02 Data', 'Prepared Data', 'orders_products_activecx.pkl'))"
   ]
  },
  {
   "cell_type": "markdown",
   "id": "12cb7fee",
   "metadata": {},
   "source": [
    "# 05. Demographic Profiles"
   ]
  },
  {
   "cell_type": "code",
   "execution_count": 4,
   "id": "8a5bf3e7",
   "metadata": {},
   "outputs": [],
   "source": [
    "ords_prods_cx = pd.read_pickle(os.path.join(path,'02 Data','Prepared Data','orders_products_activecx.pkl'))"
   ]
  },
  {
   "cell_type": "markdown",
   "id": "dbbf9f01",
   "metadata": {},
   "source": [
    "Create profiles based on age, income, depentdents and product types to identify demographics for targeted adds\n",
    "1. Single Adults with out kids:  fam_status = single, age > 18, n_dependents = 0\n",
    "2. Young Parents: age 18 - 35, n_dependents > 0\n",
    "3. Middle Aged: age 40 to 65\n",
    "4. Seniors: age >= 65\n",
    "\n",
    "1. Low Income: income < 42000\n",
    "2. Middle Income: income between 42000 and 126000\n",
    "3. High Income: income > 126000"
   ]
  },
  {
   "cell_type": "code",
   "execution_count": 7,
   "id": "cde59c0c",
   "metadata": {},
   "outputs": [],
   "source": [
    "# Income profiling - Low Income\n",
    "ords_prods_cx.loc[ords_prods_cx['income'] <= 42000, 'income_profile'] = 'Low Income'"
   ]
  },
  {
   "cell_type": "code",
   "execution_count": 8,
   "id": "ef0559dc",
   "metadata": {},
   "outputs": [],
   "source": [
    "ords_prods_cx.loc[(ords_prods_cx['income'] > 42000) & (ords_prods_cx['income'] <= 126000), 'income_profile'] = 'Middle Income'"
   ]
  },
  {
   "cell_type": "code",
   "execution_count": 9,
   "id": "c4cb7fff",
   "metadata": {},
   "outputs": [],
   "source": [
    "ords_prods_cx.loc[ords_prods_cx['income'] > 126000, 'income_profile'] = 'High Income'"
   ]
  },
  {
   "cell_type": "code",
   "execution_count": 10,
   "id": "73463eef",
   "metadata": {},
   "outputs": [
    {
     "data": {
      "text/plain": [
       "Middle Income    20933692\n",
       "High Income       8108203\n",
       "Low Income        1922669\n",
       "Name: income_profile, dtype: int64"
      ]
     },
     "execution_count": 10,
     "metadata": {},
     "output_type": "execute_result"
    }
   ],
   "source": [
    "ords_prods_cx['income_profile'].value_counts()"
   ]
  },
  {
   "cell_type": "code",
   "execution_count": 11,
   "id": "4f72f890",
   "metadata": {},
   "outputs": [
    {
     "data": {
      "image/png": "[encoded data removed]",
      "text/plain": [
       "<Figure size 432x288 with 1 Axes>"
      ]
     },
     "metadata": {
      "needs_background": "light"
     },
     "output_type": "display_data"
    }
   ],
   "source": [
    "bar = ords_prods_cx['income_profile'].value_counts().plot.bar()"
   ]
  },
  {
   "cell_type": "code",
   "execution_count": 13,
   "id": "0d4d32c7",
   "metadata": {},
   "outputs": [],
   "source": [
    "bar.figure.savefig(os.path.join(path, '04 Analysis','Visualizations', 'bar_income_profile.png'))"
   ]
  },
  {
   "cell_type": "code",
   "execution_count": 14,
   "id": "472b9314",
   "metadata": {},
   "outputs": [
    {
     "data": {
      "text/html": [
       "<div>\n",
       "<style scoped>\n",
       "    .dataframe tbody tr th:only-of-type {\n",
       "        vertical-align: middle;\n",
       "    }\n",
       "\n",
       "    .dataframe tbody tr th {\n",
       "        vertical-align: top;\n",
       "    }\n",
       "\n",
       "    .dataframe thead tr th {\n",
       "        text-align: left;\n",
       "    }\n",
       "\n",
       "    .dataframe thead tr:last-of-type th {\n",
       "        text-align: right;\n",
       "    }\n",
       "</style>\n",
       "<table border=\"1\" class=\"dataframe\">\n",
       "  <thead>\n",
       "    <tr>\n",
       "      <th></th>\n",
       "      <th colspan=\"3\" halign=\"left\">avg_spend</th>\n",
       "    </tr>\n",
       "    <tr>\n",
       "      <th></th>\n",
       "      <th>mean</th>\n",
       "      <th>min</th>\n",
       "      <th>max</th>\n",
       "    </tr>\n",
       "    <tr>\n",
       "      <th>income_profile</th>\n",
       "      <th></th>\n",
       "      <th></th>\n",
       "      <th></th>\n",
       "    </tr>\n",
       "  </thead>\n",
       "  <tbody>\n",
       "    <tr>\n",
       "      <th>High Income</th>\n",
       "      <td>21.426158</td>\n",
       "      <td>7.0</td>\n",
       "      <td>15006.940000</td>\n",
       "    </tr>\n",
       "    <tr>\n",
       "      <th>Low Income</th>\n",
       "      <td>6.521898</td>\n",
       "      <td>1.0</td>\n",
       "      <td>11.857143</td>\n",
       "    </tr>\n",
       "    <tr>\n",
       "      <th>Middle Income</th>\n",
       "      <td>8.753792</td>\n",
       "      <td>1.0</td>\n",
       "      <td>5135.893590</td>\n",
       "    </tr>\n",
       "  </tbody>\n",
       "</table>\n",
       "</div>"
      ],
      "text/plain": [
       "                avg_spend                   \n",
       "                     mean  min           max\n",
       "income_profile                              \n",
       "High Income     21.426158  7.0  15006.940000\n",
       "Low Income       6.521898  1.0     11.857143\n",
       "Middle Income    8.753792  1.0   5135.893590"
      ]
     },
     "execution_count": 14,
     "metadata": {},
     "output_type": "execute_result"
    }
   ],
   "source": [
    "ords_prods_cx.groupby('income_profile').agg({'avg_spend': ['mean','min', 'max']})"
   ]
  },
  {
   "cell_type": "code",
   "execution_count": 16,
   "id": "bcc7d63f",
   "metadata": {},
   "outputs": [
    {
     "data": {
      "text/html": [
       "<div>\n",
       "<style scoped>\n",
       "    .dataframe tbody tr th:only-of-type {\n",
       "        vertical-align: middle;\n",
       "    }\n",
       "\n",
       "    .dataframe tbody tr th {\n",
       "        vertical-align: top;\n",
       "    }\n",
       "\n",
       "    .dataframe thead tr th {\n",
       "        text-align: left;\n",
       "    }\n",
       "\n",
       "    .dataframe thead tr:last-of-type th {\n",
       "        text-align: right;\n",
       "    }\n",
       "</style>\n",
       "<table border=\"1\" class=\"dataframe\">\n",
       "  <thead>\n",
       "    <tr>\n",
       "      <th></th>\n",
       "      <th>prices</th>\n",
       "    </tr>\n",
       "    <tr>\n",
       "      <th></th>\n",
       "      <th>sum</th>\n",
       "    </tr>\n",
       "    <tr>\n",
       "      <th>income_profile</th>\n",
       "      <th></th>\n",
       "    </tr>\n",
       "  </thead>\n",
       "  <tbody>\n",
       "    <tr>\n",
       "      <th>High Income</th>\n",
       "      <td>64439196.5</td>\n",
       "    </tr>\n",
       "    <tr>\n",
       "      <th>Low Income</th>\n",
       "      <td>12539452.0</td>\n",
       "    </tr>\n",
       "    <tr>\n",
       "      <th>Middle Income</th>\n",
       "      <td>164215587.1</td>\n",
       "    </tr>\n",
       "  </tbody>\n",
       "</table>\n",
       "</div>"
      ],
      "text/plain": [
       "                     prices\n",
       "                        sum\n",
       "income_profile             \n",
       "High Income      64439196.5\n",
       "Low Income       12539452.0\n",
       "Middle Income   164215587.1"
      ]
     },
     "execution_count": 16,
     "metadata": {},
     "output_type": "execute_result"
    }
   ],
   "source": [
    "ords_prods_cx.groupby('income_profile').agg({'prices': ['sum']})"
   ]
  },
  {
   "cell_type": "code",
   "execution_count": 20,
   "id": "6281c77b",
   "metadata": {},
   "outputs": [
    {
     "data": {
      "text/html": [
       "<div>\n",
       "<style scoped>\n",
       "    .dataframe tbody tr th:only-of-type {\n",
       "        vertical-align: middle;\n",
       "    }\n",
       "\n",
       "    .dataframe tbody tr th {\n",
       "        vertical-align: top;\n",
       "    }\n",
       "\n",
       "    .dataframe thead tr th {\n",
       "        text-align: left;\n",
       "    }\n",
       "\n",
       "    .dataframe thead tr:last-of-type th {\n",
       "        text-align: right;\n",
       "    }\n",
       "</style>\n",
       "<table border=\"1\" class=\"dataframe\">\n",
       "  <thead>\n",
       "    <tr>\n",
       "      <th></th>\n",
       "      <th colspan=\"2\" halign=\"left\">orders_day_of_week</th>\n",
       "    </tr>\n",
       "    <tr>\n",
       "      <th></th>\n",
       "      <th>median</th>\n",
       "      <th>mean</th>\n",
       "    </tr>\n",
       "    <tr>\n",
       "      <th>income_profile</th>\n",
       "      <th></th>\n",
       "      <th></th>\n",
       "    </tr>\n",
       "  </thead>\n",
       "  <tbody>\n",
       "    <tr>\n",
       "      <th>High Income</th>\n",
       "      <td>3.0</td>\n",
       "      <td>2.744047</td>\n",
       "    </tr>\n",
       "    <tr>\n",
       "      <th>Low Income</th>\n",
       "      <td>3.0</td>\n",
       "      <td>2.738527</td>\n",
       "    </tr>\n",
       "    <tr>\n",
       "      <th>Middle Income</th>\n",
       "      <td>3.0</td>\n",
       "      <td>2.740634</td>\n",
       "    </tr>\n",
       "  </tbody>\n",
       "</table>\n",
       "</div>"
      ],
      "text/plain": [
       "               orders_day_of_week          \n",
       "                           median      mean\n",
       "income_profile                             \n",
       "High Income                   3.0  2.744047\n",
       "Low Income                    3.0  2.738527\n",
       "Middle Income                 3.0  2.740634"
      ]
     },
     "execution_count": 20,
     "metadata": {},
     "output_type": "execute_result"
    }
   ],
   "source": [
    "ords_prods_cx.groupby('income_profile').agg({'orders_day_of_week': ['median','mean']})"
   ]
  },
  {
   "cell_type": "code",
   "execution_count": 21,
   "id": "825ed098",
   "metadata": {},
   "outputs": [
    {
     "data": {
      "text/html": [
       "<div>\n",
       "<style scoped>\n",
       "    .dataframe tbody tr th:only-of-type {\n",
       "        vertical-align: middle;\n",
       "    }\n",
       "\n",
       "    .dataframe tbody tr th {\n",
       "        vertical-align: top;\n",
       "    }\n",
       "\n",
       "    .dataframe thead tr th {\n",
       "        text-align: left;\n",
       "    }\n",
       "\n",
       "    .dataframe thead tr:last-of-type th {\n",
       "        text-align: right;\n",
       "    }\n",
       "</style>\n",
       "<table border=\"1\" class=\"dataframe\">\n",
       "  <thead>\n",
       "    <tr>\n",
       "      <th></th>\n",
       "      <th colspan=\"2\" halign=\"left\">order_time</th>\n",
       "    </tr>\n",
       "    <tr>\n",
       "      <th></th>\n",
       "      <th>median</th>\n",
       "      <th>mean</th>\n",
       "    </tr>\n",
       "    <tr>\n",
       "      <th>income_profile</th>\n",
       "      <th></th>\n",
       "      <th></th>\n",
       "    </tr>\n",
       "  </thead>\n",
       "  <tbody>\n",
       "    <tr>\n",
       "      <th>High Income</th>\n",
       "      <td>13.0</td>\n",
       "      <td>13.449492</td>\n",
       "    </tr>\n",
       "    <tr>\n",
       "      <th>Low Income</th>\n",
       "      <td>13.0</td>\n",
       "      <td>13.180856</td>\n",
       "    </tr>\n",
       "    <tr>\n",
       "      <th>Middle Income</th>\n",
       "      <td>13.0</td>\n",
       "      <td>13.417201</td>\n",
       "    </tr>\n",
       "  </tbody>\n",
       "</table>\n",
       "</div>"
      ],
      "text/plain": [
       "               order_time           \n",
       "                   median       mean\n",
       "income_profile                      \n",
       "High Income          13.0  13.449492\n",
       "Low Income           13.0  13.180856\n",
       "Middle Income        13.0  13.417201"
      ]
     },
     "execution_count": 21,
     "metadata": {},
     "output_type": "execute_result"
    }
   ],
   "source": [
    "ords_prods_cx.groupby('income_profile').agg({'order_time': ['median','mean']})"
   ]
  },
  {
   "cell_type": "code",
   "execution_count": 30,
   "id": "2ef95e08",
   "metadata": {},
   "outputs": [],
   "source": [
    "# Profile by life status\n",
    "ords_prods_cx.loc[(ords_prods_cx['fam_status'] == 'single') & (ords_prods_cx['Age'] > 18) & (ords_prods_cx['n_dependants'] == 0), 'life_profile'] = 'Single No Kids'"
   ]
  },
  {
   "cell_type": "code",
   "execution_count": 31,
   "id": "0a60180d",
   "metadata": {},
   "outputs": [],
   "source": [
    "ords_prods_cx.loc[(ords_prods_cx['Age'] >= 40) & (ords_prods_cx['Age'] < 65), 'life_profile'] = 'Middle Aged'"
   ]
  },
  {
   "cell_type": "code",
   "execution_count": 32,
   "id": "6ad8c8aa",
   "metadata": {},
   "outputs": [],
   "source": [
    "ords_prods_cx.loc[(ords_prods_cx['Age'] >= 18) & (ords_prods_cx['Age'] < 35) & (ords_prods_cx['n_dependants'] > 0), 'life_profile'] = 'Young Parents'"
   ]
  },
  {
   "cell_type": "code",
   "execution_count": 33,
   "id": "6ae519ff",
   "metadata": {},
   "outputs": [],
   "source": [
    "ords_prods_cx.loc[ords_prods_cx['Age'] >= 65, 'life_profile'] = 'Senior'"
   ]
  },
  {
   "cell_type": "code",
   "execution_count": 34,
   "id": "6917e1e2",
   "metadata": {},
   "outputs": [
    {
     "data": {
      "text/plain": [
       "Middle Aged       12103910\n",
       "Senior             8195544\n",
       "Young Parents      6178737\n",
       "Single No Kids     2541320\n",
       "Name: life_profile, dtype: int64"
      ]
     },
     "execution_count": 34,
     "metadata": {},
     "output_type": "execute_result"
    }
   ],
   "source": [
    "ords_prods_cx['life_profile'].value_counts()"
   ]
  },
  {
   "cell_type": "code",
   "execution_count": 35,
   "id": "e71daace",
   "metadata": {},
   "outputs": [
    {
     "data": {
      "image/png": "[encoded data removed]",
      "text/plain": [
       "<Figure size 432x288 with 1 Axes>"
      ]
     },
     "metadata": {
      "needs_background": "light"
     },
     "output_type": "display_data"
    }
   ],
   "source": [
    "bar = ords_prods_cx['life_profile'].value_counts().plot.bar()"
   ]
  },
  {
   "cell_type": "code",
   "execution_count": 36,
   "id": "6a4bfa18",
   "metadata": {},
   "outputs": [],
   "source": [
    "bar.figure.savefig(os.path.join(path, '04 Analysis','Visualizations', 'bar_life_profile.png'))"
   ]
  },
  {
   "cell_type": "code",
   "execution_count": 37,
   "id": "d67ca62f",
   "metadata": {},
   "outputs": [
    {
     "data": {
      "text/html": [
       "<div>\n",
       "<style scoped>\n",
       "    .dataframe tbody tr th:only-of-type {\n",
       "        vertical-align: middle;\n",
       "    }\n",
       "\n",
       "    .dataframe tbody tr th {\n",
       "        vertical-align: top;\n",
       "    }\n",
       "\n",
       "    .dataframe thead tr th {\n",
       "        text-align: left;\n",
       "    }\n",
       "\n",
       "    .dataframe thead tr:last-of-type th {\n",
       "        text-align: right;\n",
       "    }\n",
       "</style>\n",
       "<table border=\"1\" class=\"dataframe\">\n",
       "  <thead>\n",
       "    <tr>\n",
       "      <th></th>\n",
       "      <th colspan=\"4\" halign=\"left\">prices</th>\n",
       "    </tr>\n",
       "    <tr>\n",
       "      <th></th>\n",
       "      <th>sum</th>\n",
       "      <th>mean</th>\n",
       "      <th>min</th>\n",
       "      <th>max</th>\n",
       "    </tr>\n",
       "    <tr>\n",
       "      <th>life_profile</th>\n",
       "      <th></th>\n",
       "      <th></th>\n",
       "      <th></th>\n",
       "      <th></th>\n",
       "    </tr>\n",
       "  </thead>\n",
       "  <tbody>\n",
       "    <tr>\n",
       "      <th>Middle Aged</th>\n",
       "      <td>94292932.7</td>\n",
       "      <td>7.791529</td>\n",
       "      <td>1.0</td>\n",
       "      <td>25.0</td>\n",
       "    </tr>\n",
       "    <tr>\n",
       "      <th>Senior</th>\n",
       "      <td>63888366.2</td>\n",
       "      <td>7.796715</td>\n",
       "      <td>1.0</td>\n",
       "      <td>25.0</td>\n",
       "    </tr>\n",
       "    <tr>\n",
       "      <th>Single No Kids</th>\n",
       "      <td>19770461.3</td>\n",
       "      <td>7.780709</td>\n",
       "      <td>1.0</td>\n",
       "      <td>25.0</td>\n",
       "    </tr>\n",
       "    <tr>\n",
       "      <th>Young Parents</th>\n",
       "      <td>48101520.1</td>\n",
       "      <td>7.786299</td>\n",
       "      <td>1.0</td>\n",
       "      <td>25.0</td>\n",
       "    </tr>\n",
       "  </tbody>\n",
       "</table>\n",
       "</div>"
      ],
      "text/plain": [
       "                    prices                     \n",
       "                       sum      mean  min   max\n",
       "life_profile                                   \n",
       "Middle Aged     94292932.7  7.791529  1.0  25.0\n",
       "Senior          63888366.2  7.796715  1.0  25.0\n",
       "Single No Kids  19770461.3  7.780709  1.0  25.0\n",
       "Young Parents   48101520.1  7.786299  1.0  25.0"
      ]
     },
     "execution_count": 37,
     "metadata": {},
     "output_type": "execute_result"
    }
   ],
   "source": [
    "ords_prods_cx.groupby('life_profile').agg({'prices': ['sum','mean','min', 'max']})"
   ]
  },
  {
   "cell_type": "code",
   "execution_count": 38,
   "id": "fb0211b9",
   "metadata": {},
   "outputs": [
    {
     "data": {
      "text/html": [
       "<div>\n",
       "<style scoped>\n",
       "    .dataframe tbody tr th:only-of-type {\n",
       "        vertical-align: middle;\n",
       "    }\n",
       "\n",
       "    .dataframe tbody tr th {\n",
       "        vertical-align: top;\n",
       "    }\n",
       "\n",
       "    .dataframe thead tr th {\n",
       "        text-align: left;\n",
       "    }\n",
       "\n",
       "    .dataframe thead tr:last-of-type th {\n",
       "        text-align: right;\n",
       "    }\n",
       "</style>\n",
       "<table border=\"1\" class=\"dataframe\">\n",
       "  <thead>\n",
       "    <tr>\n",
       "      <th></th>\n",
       "      <th colspan=\"2\" halign=\"left\">order_time</th>\n",
       "    </tr>\n",
       "    <tr>\n",
       "      <th></th>\n",
       "      <th>median</th>\n",
       "      <th>mean</th>\n",
       "    </tr>\n",
       "    <tr>\n",
       "      <th>life_profile</th>\n",
       "      <th></th>\n",
       "      <th></th>\n",
       "    </tr>\n",
       "  </thead>\n",
       "  <tbody>\n",
       "    <tr>\n",
       "      <th>Middle Aged</th>\n",
       "      <td>13.0</td>\n",
       "      <td>13.420149</td>\n",
       "    </tr>\n",
       "    <tr>\n",
       "      <th>Senior</th>\n",
       "      <td>13.0</td>\n",
       "      <td>13.412806</td>\n",
       "    </tr>\n",
       "    <tr>\n",
       "      <th>Single No Kids</th>\n",
       "      <td>13.0</td>\n",
       "      <td>13.400129</td>\n",
       "    </tr>\n",
       "    <tr>\n",
       "      <th>Young Parents</th>\n",
       "      <td>13.0</td>\n",
       "      <td>13.389479</td>\n",
       "    </tr>\n",
       "  </tbody>\n",
       "</table>\n",
       "</div>"
      ],
      "text/plain": [
       "               order_time           \n",
       "                   median       mean\n",
       "life_profile                        \n",
       "Middle Aged          13.0  13.420149\n",
       "Senior               13.0  13.412806\n",
       "Single No Kids       13.0  13.400129\n",
       "Young Parents        13.0  13.389479"
      ]
     },
     "execution_count": 38,
     "metadata": {},
     "output_type": "execute_result"
    }
   ],
   "source": [
    "ords_prods_cx.groupby('life_profile').agg({'order_time': ['median','mean']})"
   ]
  },
  {
   "cell_type": "code",
   "execution_count": 39,
   "id": "a1d98ebd",
   "metadata": {},
   "outputs": [
    {
     "data": {
      "text/html": [
       "<div>\n",
       "<style scoped>\n",
       "    .dataframe tbody tr th:only-of-type {\n",
       "        vertical-align: middle;\n",
       "    }\n",
       "\n",
       "    .dataframe tbody tr th {\n",
       "        vertical-align: top;\n",
       "    }\n",
       "\n",
       "    .dataframe thead tr th {\n",
       "        text-align: left;\n",
       "    }\n",
       "\n",
       "    .dataframe thead tr:last-of-type th {\n",
       "        text-align: right;\n",
       "    }\n",
       "</style>\n",
       "<table border=\"1\" class=\"dataframe\">\n",
       "  <thead>\n",
       "    <tr>\n",
       "      <th></th>\n",
       "      <th colspan=\"2\" halign=\"left\">orders_day_of_week</th>\n",
       "    </tr>\n",
       "    <tr>\n",
       "      <th></th>\n",
       "      <th>median</th>\n",
       "      <th>mean</th>\n",
       "    </tr>\n",
       "    <tr>\n",
       "      <th>life_profile</th>\n",
       "      <th></th>\n",
       "      <th></th>\n",
       "    </tr>\n",
       "  </thead>\n",
       "  <tbody>\n",
       "    <tr>\n",
       "      <th>Middle Aged</th>\n",
       "      <td>3.0</td>\n",
       "      <td>2.744650</td>\n",
       "    </tr>\n",
       "    <tr>\n",
       "      <th>Senior</th>\n",
       "      <td>3.0</td>\n",
       "      <td>2.747122</td>\n",
       "    </tr>\n",
       "    <tr>\n",
       "      <th>Single No Kids</th>\n",
       "      <td>3.0</td>\n",
       "      <td>2.721996</td>\n",
       "    </tr>\n",
       "    <tr>\n",
       "      <th>Young Parents</th>\n",
       "      <td>3.0</td>\n",
       "      <td>2.738144</td>\n",
       "    </tr>\n",
       "  </tbody>\n",
       "</table>\n",
       "</div>"
      ],
      "text/plain": [
       "               orders_day_of_week          \n",
       "                           median      mean\n",
       "life_profile                               \n",
       "Middle Aged                   3.0  2.744650\n",
       "Senior                        3.0  2.747122\n",
       "Single No Kids                3.0  2.721996\n",
       "Young Parents                 3.0  2.738144"
      ]
     },
     "execution_count": 39,
     "metadata": {},
     "output_type": "execute_result"
    }
   ],
   "source": [
    "ords_prods_cx.groupby('life_profile').agg({'orders_day_of_week': ['median','mean']})"
   ]
  },
  {
   "cell_type": "code",
   "execution_count": 41,
   "id": "27395db6",
   "metadata": {},
   "outputs": [],
   "source": [
    "crosstab = pd.crosstab(ords_prods_cx['life_profile'], ords_prods_cx['spend_type'])"
   ]
  },
  {
   "cell_type": "code",
   "execution_count": 42,
   "id": "1327f9a7",
   "metadata": {},
   "outputs": [],
   "source": [
    "crosstab.to_clipboard()"
   ]
  },
  {
   "cell_type": "code",
   "execution_count": 43,
   "id": "e85e42c8",
   "metadata": {},
   "outputs": [],
   "source": [
    "crosstab = pd.crosstab(ords_prods_cx['life_profile'], ords_prods_cx['loyalty_flag'])"
   ]
  },
  {
   "cell_type": "code",
   "execution_count": 44,
   "id": "3961ceaf",
   "metadata": {},
   "outputs": [],
   "source": [
    "crosstab.to_clipboard()"
   ]
  },
  {
   "cell_type": "code",
   "execution_count": 45,
   "id": "94cfdd91",
   "metadata": {},
   "outputs": [],
   "source": [
    "crosstab = pd.crosstab(ords_prods_cx['income_profile'], ords_prods_cx['spend_type'])"
   ]
  },
  {
   "cell_type": "code",
   "execution_count": 46,
   "id": "7e4c27a7",
   "metadata": {},
   "outputs": [],
   "source": [
    "crosstab.to_clipboard()"
   ]
  },
  {
   "cell_type": "code",
   "execution_count": 47,
   "id": "9a48744a",
   "metadata": {},
   "outputs": [],
   "source": [
    "crosstab = pd.crosstab(ords_prods_cx['income_profile'], ords_prods_cx['loyalty_flag'])"
   ]
  },
  {
   "cell_type": "code",
   "execution_count": 48,
   "id": "1ad7a6bf",
   "metadata": {},
   "outputs": [],
   "source": [
    "crosstab.to_clipboard()"
   ]
  },
  {
   "cell_type": "code",
   "execution_count": 49,
   "id": "8bdd9772",
   "metadata": {},
   "outputs": [
    {
     "data": {
      "text/html": [
       "<div>\n",
       "<style scoped>\n",
       "    .dataframe tbody tr th:only-of-type {\n",
       "        vertical-align: middle;\n",
       "    }\n",
       "\n",
       "    .dataframe tbody tr th {\n",
       "        vertical-align: top;\n",
       "    }\n",
       "\n",
       "    .dataframe thead tr th {\n",
       "        text-align: left;\n",
       "    }\n",
       "\n",
       "    .dataframe thead tr:last-of-type th {\n",
       "        text-align: right;\n",
       "    }\n",
       "</style>\n",
       "<table border=\"1\" class=\"dataframe\">\n",
       "  <thead>\n",
       "    <tr>\n",
       "      <th></th>\n",
       "      <th colspan=\"3\" halign=\"left\">median_order_frequency</th>\n",
       "    </tr>\n",
       "    <tr>\n",
       "      <th></th>\n",
       "      <th>mean</th>\n",
       "      <th>min</th>\n",
       "      <th>max</th>\n",
       "    </tr>\n",
       "    <tr>\n",
       "      <th>life_profile</th>\n",
       "      <th></th>\n",
       "      <th></th>\n",
       "      <th></th>\n",
       "    </tr>\n",
       "  </thead>\n",
       "  <tbody>\n",
       "    <tr>\n",
       "      <th>Middle Aged</th>\n",
       "      <td>9.980707</td>\n",
       "      <td>0.0</td>\n",
       "      <td>30.0</td>\n",
       "    </tr>\n",
       "    <tr>\n",
       "      <th>Senior</th>\n",
       "      <td>9.933025</td>\n",
       "      <td>0.0</td>\n",
       "      <td>30.0</td>\n",
       "    </tr>\n",
       "    <tr>\n",
       "      <th>Single No Kids</th>\n",
       "      <td>10.029734</td>\n",
       "      <td>0.0</td>\n",
       "      <td>30.0</td>\n",
       "    </tr>\n",
       "    <tr>\n",
       "      <th>Young Parents</th>\n",
       "      <td>9.931626</td>\n",
       "      <td>0.0</td>\n",
       "      <td>30.0</td>\n",
       "    </tr>\n",
       "  </tbody>\n",
       "</table>\n",
       "</div>"
      ],
      "text/plain": [
       "               median_order_frequency           \n",
       "                                 mean  min   max\n",
       "life_profile                                    \n",
       "Middle Aged                  9.980707  0.0  30.0\n",
       "Senior                       9.933025  0.0  30.0\n",
       "Single No Kids              10.029734  0.0  30.0\n",
       "Young Parents                9.931626  0.0  30.0"
      ]
     },
     "execution_count": 49,
     "metadata": {},
     "output_type": "execute_result"
    }
   ],
   "source": [
    "ords_prods_cx.groupby('life_profile').agg({'median_order_frequency': ['mean','min', 'max']})"
   ]
  },
  {
   "cell_type": "code",
   "execution_count": 50,
   "id": "18b6e48c",
   "metadata": {},
   "outputs": [
    {
     "data": {
      "text/html": [
       "<div>\n",
       "<style scoped>\n",
       "    .dataframe tbody tr th:only-of-type {\n",
       "        vertical-align: middle;\n",
       "    }\n",
       "\n",
       "    .dataframe tbody tr th {\n",
       "        vertical-align: top;\n",
       "    }\n",
       "\n",
       "    .dataframe thead tr th {\n",
       "        text-align: left;\n",
       "    }\n",
       "\n",
       "    .dataframe thead tr:last-of-type th {\n",
       "        text-align: right;\n",
       "    }\n",
       "</style>\n",
       "<table border=\"1\" class=\"dataframe\">\n",
       "  <thead>\n",
       "    <tr>\n",
       "      <th></th>\n",
       "      <th colspan=\"3\" halign=\"left\">median_order_frequency</th>\n",
       "    </tr>\n",
       "    <tr>\n",
       "      <th></th>\n",
       "      <th>mean</th>\n",
       "      <th>min</th>\n",
       "      <th>max</th>\n",
       "    </tr>\n",
       "    <tr>\n",
       "      <th>income_profile</th>\n",
       "      <th></th>\n",
       "      <th></th>\n",
       "      <th></th>\n",
       "    </tr>\n",
       "  </thead>\n",
       "  <tbody>\n",
       "    <tr>\n",
       "      <th>High Income</th>\n",
       "      <td>9.867302</td>\n",
       "      <td>0.0</td>\n",
       "      <td>30.0</td>\n",
       "    </tr>\n",
       "    <tr>\n",
       "      <th>Low Income</th>\n",
       "      <td>10.634684</td>\n",
       "      <td>0.0</td>\n",
       "      <td>30.0</td>\n",
       "    </tr>\n",
       "    <tr>\n",
       "      <th>Middle Income</th>\n",
       "      <td>9.929707</td>\n",
       "      <td>0.0</td>\n",
       "      <td>30.0</td>\n",
       "    </tr>\n",
       "  </tbody>\n",
       "</table>\n",
       "</div>"
      ],
      "text/plain": [
       "               median_order_frequency           \n",
       "                                 mean  min   max\n",
       "income_profile                                  \n",
       "High Income                  9.867302  0.0  30.0\n",
       "Low Income                  10.634684  0.0  30.0\n",
       "Middle Income                9.929707  0.0  30.0"
      ]
     },
     "execution_count": 50,
     "metadata": {},
     "output_type": "execute_result"
    }
   ],
   "source": [
    "ords_prods_cx.groupby('income_profile').agg({'median_order_frequency': ['mean','min', 'max']})"
   ]
  },
  {
   "cell_type": "code",
   "execution_count": 51,
   "id": "9eca286c",
   "metadata": {},
   "outputs": [
    {
     "data": {
      "text/html": [
       "<div>\n",
       "<style scoped>\n",
       "    .dataframe tbody tr th:only-of-type {\n",
       "        vertical-align: middle;\n",
       "    }\n",
       "\n",
       "    .dataframe tbody tr th {\n",
       "        vertical-align: top;\n",
       "    }\n",
       "\n",
       "    .dataframe thead tr th {\n",
       "        text-align: left;\n",
       "    }\n",
       "\n",
       "    .dataframe thead tr:last-of-type th {\n",
       "        text-align: right;\n",
       "    }\n",
       "</style>\n",
       "<table border=\"1\" class=\"dataframe\">\n",
       "  <thead>\n",
       "    <tr>\n",
       "      <th></th>\n",
       "      <th colspan=\"3\" halign=\"left\">avg_spend</th>\n",
       "    </tr>\n",
       "    <tr>\n",
       "      <th></th>\n",
       "      <th>mean</th>\n",
       "      <th>min</th>\n",
       "      <th>max</th>\n",
       "    </tr>\n",
       "    <tr>\n",
       "      <th>life_profile</th>\n",
       "      <th></th>\n",
       "      <th></th>\n",
       "      <th></th>\n",
       "    </tr>\n",
       "  </thead>\n",
       "  <tbody>\n",
       "    <tr>\n",
       "      <th>Middle Aged</th>\n",
       "      <td>11.944899</td>\n",
       "      <td>1.000000</td>\n",
       "      <td>15006.940000</td>\n",
       "    </tr>\n",
       "    <tr>\n",
       "      <th>Senior</th>\n",
       "      <td>11.757768</td>\n",
       "      <td>1.262500</td>\n",
       "      <td>14042.512281</td>\n",
       "    </tr>\n",
       "    <tr>\n",
       "      <th>Single No Kids</th>\n",
       "      <td>11.871863</td>\n",
       "      <td>1.800000</td>\n",
       "      <td>8794.882427</td>\n",
       "    </tr>\n",
       "    <tr>\n",
       "      <th>Young Parents</th>\n",
       "      <td>12.113719</td>\n",
       "      <td>1.628571</td>\n",
       "      <td>10209.987755</td>\n",
       "    </tr>\n",
       "  </tbody>\n",
       "</table>\n",
       "</div>"
      ],
      "text/plain": [
       "                avg_spend                        \n",
       "                     mean       min           max\n",
       "life_profile                                     \n",
       "Middle Aged     11.944899  1.000000  15006.940000\n",
       "Senior          11.757768  1.262500  14042.512281\n",
       "Single No Kids  11.871863  1.800000   8794.882427\n",
       "Young Parents   12.113719  1.628571  10209.987755"
      ]
     },
     "execution_count": 51,
     "metadata": {},
     "output_type": "execute_result"
    }
   ],
   "source": [
    "ords_prods_cx.groupby('life_profile').agg({'avg_spend': ['mean','min', 'max']})"
   ]
  },
  {
   "cell_type": "markdown",
   "id": "ab83d4a3",
   "metadata": {},
   "source": [
    "# 06. Comparing profiles and regions"
   ]
  },
  {
   "cell_type": "code",
   "execution_count": 54,
   "id": "f1ee06f0",
   "metadata": {},
   "outputs": [],
   "source": [
    "# Create crosstab subset to compare region and life profiles\n",
    "region_profiles = pd.crosstab(ords_prods_cx['Region'], ords_prods_cx['life_profile'], dropna = False)"
   ]
  },
  {
   "cell_type": "code",
   "execution_count": 55,
   "id": "4fa163cc",
   "metadata": {},
   "outputs": [
    {
     "data": {
      "image/png": "[encoded data removed]",
      "text/plain": [
       "<Figure size 432x288 with 1 Axes>"
      ]
     },
     "metadata": {
      "needs_background": "light"
     },
     "output_type": "display_data"
    }
   ],
   "source": [
    "rp_bar = region_profiles.plot(kind='bar', stacked=True, title='Customer Profile by Region')"
   ]
  },
  {
   "cell_type": "code",
   "execution_count": 57,
   "id": "7d3b60dd",
   "metadata": {},
   "outputs": [],
   "source": [
    "rp_bar.figure.savefig(os.path.join(path, '04 Analysis','Visualizations', 'bar_region_life_profile.png'))"
   ]
  },
  {
   "cell_type": "code",
   "execution_count": 58,
   "id": "492b22cd",
   "metadata": {},
   "outputs": [],
   "source": [
    "region_income = pd.crosstab(ords_prods_cx['Region'], ords_prods_cx['income_profile'], dropna = False)"
   ]
  },
  {
   "cell_type": "code",
   "execution_count": 72,
   "id": "3e60b9e4",
   "metadata": {},
   "outputs": [
    {
     "data": {
      "image/png": "[encoded data removed]",
      "text/plain": [
       "<Figure size 432x288 with 1 Axes>"
      ]
     },
     "metadata": {
      "needs_background": "light"
     },
     "output_type": "display_data"
    }
   ],
   "source": [
    "rip_bar = region_income.plot(kind='bar', stacked=True, title='Customer Income Profile by Region')"
   ]
  },
  {
   "cell_type": "code",
   "execution_count": 73,
   "id": "5342fa66",
   "metadata": {},
   "outputs": [],
   "source": [
    "rip_bar.figure.savefig(os.path.join(path, '04 Analysis','Visualizations', 'bar_region_income_profile.png'))"
   ]
  },
  {
   "cell_type": "markdown",
   "id": "ab51e463",
   "metadata": {},
   "source": [
    "# 07. Comparing Profiles across Departments"
   ]
  },
  {
   "cell_type": "code",
   "execution_count": 61,
   "id": "0ec532c7",
   "metadata": {},
   "outputs": [],
   "source": [
    "# Create crosstab subset to compare departments and life profiles\n",
    "dept_profiles = pd.crosstab(ords_prods_cx['department_id'], ords_prods_cx['life_profile'], dropna = False)"
   ]
  },
  {
   "cell_type": "code",
   "execution_count": 62,
   "id": "74a6ff79",
   "metadata": {},
   "outputs": [
    {
     "data": {
      "image/png": "[encoded data removed]",
      "text/plain": [
       "<Figure size 432x288 with 1 Axes>"
      ]
     },
     "metadata": {
      "needs_background": "light"
     },
     "output_type": "display_data"
    }
   ],
   "source": [
    "dp_bar = dept_profiles.plot(kind='bar', stacked=True, title='Customer Profile by Department')"
   ]
  },
  {
   "cell_type": "code",
   "execution_count": 64,
   "id": "04b93a0e",
   "metadata": {},
   "outputs": [],
   "source": [
    "dp_bar.figure.savefig(os.path.join(path, '04 Analysis','Visualizations', 'bar_department_life_profile.png'))"
   ]
  },
  {
   "cell_type": "code",
   "execution_count": 63,
   "id": "56f1df43",
   "metadata": {},
   "outputs": [],
   "source": [
    "# Create crosstab subset to compare departments and income profiles\n",
    "dept_iprofiles = pd.crosstab(ords_prods_cx['department_id'], ords_prods_cx['income_profile'], dropna = False)"
   ]
  },
  {
   "cell_type": "code",
   "execution_count": 65,
   "id": "3105562a",
   "metadata": {},
   "outputs": [
    {
     "data": {
      "image/png": "[encoded data removed]",
      "text/plain": [
       "<Figure size 432x288 with 1 Axes>"
      ]
     },
     "metadata": {
      "needs_background": "light"
     },
     "output_type": "display_data"
    }
   ],
   "source": [
    "dip_bar = dept_iprofiles.plot(kind='bar', stacked=True, title='Customer Income Profile by Department')"
   ]
  },
  {
   "cell_type": "code",
   "execution_count": 66,
   "id": "672f550b",
   "metadata": {},
   "outputs": [],
   "source": [
    "dip_bar.figure.savefig(os.path.join(path, '04 Analysis','Visualizations', 'bar_department_life_profile.png'))"
   ]
  },
  {
   "cell_type": "code",
   "execution_count": 70,
   "id": "5d23ba29",
   "metadata": {},
   "outputs": [],
   "source": [
    "# Export\n",
    "ords_prods_cx.to_pickle(os.path.join(path, '02 Data', 'Prepared Data', 'orders_products_customer_final.pkl'))"
   ]
  },
  {
   "cell_type": "code",
   "execution_count": 71,
   "id": "959e572f",
   "metadata": {},
   "outputs": [
    {
     "data": {
      "text/plain": [
       "(30964564, 36)"
      ]
     },
     "execution_count": 71,
     "metadata": {},
     "output_type": "execute_result"
    }
   ],
   "source": [
    "ords_prods_cx.shape"
   ]
  },
  {
   "cell_type": "code",
   "execution_count": 74,
   "id": "17e45110",
   "metadata": {},
   "outputs": [],
   "source": [
    "crosstab = pd.crosstab(ords_prods_cx['Region'], ords_prods_cx['loyalty_flag'])"
   ]
  },
  {
   "cell_type": "code",
   "execution_count": 75,
   "id": "06ded59e",
   "metadata": {},
   "outputs": [],
   "source": [
    "crosstab.to_clipboard()"
   ]
  },
  {
   "cell_type": "code",
   "execution_count": null,
   "id": "1f564483",
   "metadata": {},
   "outputs": [],
   "source": []
  }
 ],
 "metadata": {
  "kernelspec": {
   "display_name": "Python 3 (ipykernel)",
   "language": "python",
   "name": "python3"
  },
  "language_info": {
   "codemirror_mode": {
    "name": "ipython",
    "version": 3
   },
   "file_extension": ".py",
   "mimetype": "text/x-python",
   "name": "python",
   "nbconvert_exporter": "python",
   "pygments_lexer": "ipython3",
   "version": "3.9.12"
  }
 },
 "nbformat": 4,
 "nbformat_minor": 5
}
